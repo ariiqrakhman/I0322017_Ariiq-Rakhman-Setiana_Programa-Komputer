{
 "cells": [
  {
   "attachments": {},
   "cell_type": "markdown",
   "metadata": {},
   "source": [
    "1. Buatlah program untuk menampilkan total penjumlahan bilangan ganjil dan total penjumlahan bilangan genap dengan input dari user berupa range (batas atas dan batas bawah)!"
   ]
  },
  {
   "cell_type": "code",
   "execution_count": 1,
   "metadata": {},
   "outputs": [
    {
     "name": "stdout",
     "output_type": "stream",
     "text": [
      "Total penjumlahan bilangan ganjil: 1\n",
      "Total penjumlahan bilangan genap: 2\n"
     ]
    }
   ],
   "source": [
    "# Kerjakan nomor 1 di sini\n",
    "def hitung_penjumlahan_ganjil_genap(start, end):\n",
    "    total_ganjil = 0\n",
    "    total_genap = 0\n",
    "\n",
    "    for num in range(start, end + 1):\n",
    "        if num % 2 == 0:\n",
    "            total_genap += num\n",
    "        else:\n",
    "            total_ganjil += num\n",
    "\n",
    "    return total_ganjil, total_genap\n",
    "\n",
    "\n",
    "# Meminta input dari pengguna\n",
    "start = int(input(\"Masukkan angka awal: \"))\n",
    "end = int(input(\"Masukkan angka akhir: \"))\n",
    "\n",
    "# Memanggil fungsi untuk menghitung total penjumlahan\n",
    "hasil_ganjil, hasil_genap = hitung_penjumlahan_ganjil_genap(start, end)\n",
    "\n",
    "# Menampilkan hasil\n",
    "print(\"Total penjumlahan bilangan ganjil:\", hasil_ganjil)\n",
    "print(\"Total penjumlahan bilangan genap:\", hasil_genap)"
   ]
  },
  {
   "attachments": {},
   "cell_type": "markdown",
   "metadata": {},
   "source": [
    "2. Buatlah sebuah list yang berisi daftar makanan khas daerah (minimal 10 makanan termasuk makanan khas Solo). Kemudian buat program pencarian menggunakan pengulangan. Apabila nama makanan yang user inputkan sudah sesuai dengan isi list maka program akan berhenti dan menampilkan output \"(makanan yang diinput user) adalah makanan khas daerah\"."
   ]
  },
  {
   "cell_type": "code",
   "execution_count": 2,
   "metadata": {},
   "outputs": [
    {
     "name": "stdout",
     "output_type": "stream",
     "text": [
      "Pempek bukan makanan khas daerah\n"
     ]
    }
   ],
   "source": [
    "# Kerjakan nomor 2 di sini\n",
    "daftar_makanan = [\n",
    "    \"Nasi Liwet\",\n",
    "    \"Bakpia Pathuk\",\n",
    "    \"Sate Buntel\",\n",
    "    \"Gudeg\",\n",
    "    \"Serabi Solo\",\n",
    "    \"Tengkleng\",\n",
    "    \"Sosis Solo\",\n",
    "    \"Soto Gading\",\n",
    "    \"Selat Solo\",\n",
    "    \"Nasi Pecel\",\n",
    "]\n",
    "\n",
    "makanan_user = input(\"Masukkan nama makanan: \")\n",
    "\n",
    "for makanan in daftar_makanan:\n",
    "    if makanan.lower() == makanan_user.lower():\n",
    "        print(f\"{makanan_user} adalah makanan khas daerah\")\n",
    "        break\n",
    "else:\n",
    "    print(f\"{makanan_user} bukan makanan khas daerah\")\n"
   ]
  },
  {
   "attachments": {},
   "cell_type": "markdown",
   "metadata": {},
   "source": [
    "3. Buatlah program untuk menghitung rata-rata 7 bilangan dimana bilangan-bilangan tersebut didapat melalui input user!"
   ]
  },
  {
   "cell_type": "code",
   "execution_count": null,
   "metadata": {},
   "outputs": [],
   "source": [
    "# Kerjakan nomor 3 di sini\n",
    "# Meminta pengguna untuk memasukkan tujuh bilangan\n",
    "bilangan = []\n",
    "for i in range(7):\n",
    "    bilangan.append(float(input(\"Masukkan bilangan ke-%d: \" % (i+1))))\n",
    "\n",
    "# Menghitung jumlah semua bilangan\n",
    "jumlah = sum(bilangan)\n",
    "\n",
    "# Menghitung rata-rata\n",
    "rata_rata = jumlah / len(bilangan)\n",
    "\n",
    "# Menampilkan hasil rata-rata\n",
    "print(\"Rata-rata dari bilangan yang dimasukkan adalah:\", rata_rata)\n"
   ]
  }
 ],
 "metadata": {
  "kernelspec": {
   "display_name": "Python 3",
   "language": "python",
   "name": "python3"
  },
  "language_info": {
   "codemirror_mode": {
    "name": "ipython",
    "version": 3
   },
   "file_extension": ".py",
   "mimetype": "text/x-python",
   "name": "python",
   "nbconvert_exporter": "python",
   "pygments_lexer": "ipython3",
   "version": "3.11.2"
  },
  "orig_nbformat": 4
 },
 "nbformat": 4,
 "nbformat_minor": 2
}
